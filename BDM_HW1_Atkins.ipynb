{
  "nbformat": 4,
  "nbformat_minor": 0,
  "metadata": {
    "colab": {
      "name": "BDM_HW1_Atkins",
      "provenance": [],
      "collapsed_sections": []
    },
    "kernelspec": {
      "name": "python3",
      "display_name": "Python 3"
    }
  },
  "cells": [
    {
      "cell_type": "markdown",
      "metadata": {
        "id": "lvnKTXzOO5p_"
      },
      "source": [
        "# Homework 1 - Streaming (15 pts)\n",
        "\n",
        "Please turn in your note book naming as **BDM\\_HW1\\_LastName.ipynb**."
      ]
    },
    {
      "cell_type": "markdown",
      "metadata": {
        "id": "MGjOHTNOL9Lr"
      },
      "source": [
        "\n",
        "## Task 1 (5 points)\n",
        "\n",
        "You are asked to write a Python generator that takes a sequence of characters as input (think of it as a string iterator that can only be traversed forward) and returns a generator of substrings containing consecutive characters in the string. For example, substrings of consecutive characters in `'Good morning !!!'` are `'oo'` and `'!!!'`. Your task is to complete the generator below (only fill in the body of **`findDuplicateSequence()`**)."
      ]
    },
    {
      "cell_type": "code",
      "source": [
        "def findDuplicateSequence(s):\n",
        "    sequence = \"\"\n",
        "    last = \"\"\n",
        "    for letter in s:\n",
        "        if last == (\"\" or letter):\n",
        "          sequence += letter\n",
        "        else: \n",
        "          if len(sequence) > 1:\n",
        "            yield sequence\n",
        "          sequence = letter\n",
        "        last = letter\n",
        "    if len(sequence) > 1:\n",
        "        yield sequence"
      ],
      "metadata": {
        "id": "EVEtiwiqNGS4"
      },
      "execution_count": 362,
      "outputs": []
    },
    {
      "cell_type": "code",
      "source": [
        "# DO NOT EDIT THIS CELL, YOU CAN USE THIS TO CHECK THE CODE IN THE PREVIOUS CELL\n",
        "\n",
        "print(repr(next(findDuplicateSequence(iter('aabccccedaaa'))))) # 'aa'\n",
        "print(list(findDuplicateSequence(iter('aabccccedaaa')))) # 'aa', 'cccc', 'aaa'\n",
        "print(list(findDuplicateSequence(iter('Good morning!!!')))) # 'oo', '!!!'\n",
        "# 'aa'\n",
        "# ['aa', 'cccc', 'aaa']\n",
        "# ['oo', '!!!']"
      ],
      "metadata": {
        "colab": {
          "base_uri": "https://localhost:8080/"
        },
        "id": "dKyZwsCq9Ldd",
        "outputId": "c0e95842-7205-4997-f2eb-399706d66c9b"
      },
      "execution_count": 363,
      "outputs": [
        {
          "output_type": "stream",
          "name": "stdout",
          "text": [
            "'aa'\n",
            "['aa', 'cccc', 'aaa']\n",
            "['oo', '!!!']\n"
          ]
        }
      ]
    },
    {
      "cell_type": "markdown",
      "metadata": {
        "id": "4D1Sn_NiL9Ls"
      },
      "source": [
        "\n",
        "## Task 2 (10 points)\n",
        "\n",
        "We are greatly inspired by the [Consumer Complaints](https://github.com/InsightDataScience/consumer_complaints) challenge from [InsightDataScience](https://github.com/InsightDataScience/). In fact, we are going to tackle the same challenge but streaming. Please read through the challenge at the following link (the most important sections are “Input dataset” and “Expected output”):\n",
        "\n",
        "<https://github.com/InsightDataScience/consumer_complaints>\n",
        "\n",
        "Our problem is different than the one above in that the INPUT is also <ins>sorted by product (alphabetically) and year (ascending)</ins>, similar to the requested output format. You are asked to complete the generator below to produce the expected output. You should not edit any other code.\n",
        "\n",
        "### INPUT\n",
        "Your code will be evaluated against the original data set (in CSV format) downloaded from the below link (of course with a sorted version). For your convenience, a smaller version of the file is provided below for testing purposes.\n",
        "\n",
        "https://www.consumerfinance.gov/data-research/consumer-complaints/#download-the-data\n",
        "\n"
      ]
    },
    {
      "cell_type": "code",
      "metadata": {
        "id": "Xf4WQNpEi021",
        "colab": {
          "base_uri": "https://localhost:8080/"
        },
        "outputId": "b3797bd2-40ac-4988-ed9e-146661059589"
      },
      "source": [
        "!gdown --id 1-IeoZDwT5wQzBUpsaS5B6vTaP-2ZBkam -O complaints.csv\n",
        "!head -n 1 complaints.csv"
      ],
      "execution_count": 249,
      "outputs": [
        {
          "output_type": "stream",
          "name": "stdout",
          "text": [
            "Downloading...\n",
            "From: https://drive.google.com/uc?id=1-IeoZDwT5wQzBUpsaS5B6vTaP-2ZBkam\n",
            "To: /content/complaints.csv\n",
            "100% 3.91M/3.91M [00:00<00:00, 111MB/s]\n",
            "Date received,Product,Sub-product,Issue,Sub-issue,Consumer complaint narrative,Company public response,Company,State,ZIP code,Tags,Consumer consent provided?,Submitted via,Date sent to company,Company response to consumer,Timely response?,Consumer disputed?,Complaint ID\n"
          ]
        }
      ]
    },
    {
      "cell_type": "code",
      "metadata": {
        "id": "28mcMPLZUB6A"
      },
      "source": [
        "def task2(reader):\n",
        "  # YOU CAN ONLY EDIT THE CODE BELOW THIS LINE\n",
        "  from itertools import groupby\n",
        "  from numpy.ma.core import count\n",
        "\n",
        "  from itertools import groupby\n",
        "\n",
        "  maxCompanyComplaints = 0\n",
        "\n",
        "  for row in reader:\n",
        "\n",
        "    product = (row['Product']).lower()\n",
        "    date = (row['Date received'])\n",
        "    year = date[0:4]\n",
        "    numComplaints = count(row['Complaint ID'])\n",
        "    numCompanies = count(row['Company'])\n",
        "    \n",
        "    #if numComplaints>maxCompanyComplaints:\n",
        "    #  maxCompanyComplaints = numComplaints\n",
        "\n",
        "    #mostComplaints = max(count(row['Complaint ID']))/numComplaints\n",
        "\n",
        "    yield product, year, numComplaints,numCompanies#, mostComplaints"
      ],
      "execution_count": 361,
      "outputs": []
    },
    {
      "cell_type": "code",
      "metadata": {
        "colab": {
          "base_uri": "https://localhost:8080/"
        },
        "id": "vdF8fvHjTScK",
        "outputId": "ca594778-9da3-42ee-f9b9-66890f6f0502"
      },
      "source": [
        "# DO NOT EDIT THIS CELL, YOU CAN RUN TO QUICKLY CHECK YOUR RESULTS\n",
        "\n",
        "import csv\n",
        "\n",
        "with open('complaints.csv', 'r') as fi, open('output.csv', 'w') as fo:\n",
        "  reader = csv.DictReader(fi)\n",
        "  writer = csv.writer(fo)\n",
        "  for row in task2(reader):\n",
        "    writer.writerow(row)\n",
        "\n",
        "!head output.csv\n",
        "\n",
        "# bank account or service,2015,1,1,100\n",
        "# bank account or service,2016,2,2,50\n",
        "# checking or savings account,2017,1,1,100\n",
        "# checking or savings account,2018,20,10,25\n",
        "# checking or savings account,2019,461,72,13\n",
        "# checking or savings account,2020,3,3,33\n",
        "# consumer loan,2015,1,1,100\n",
        "# consumer loan,2016,1,1,100\n",
        "# consumer loan,2017,1,1,100\n",
        "# credit card,2016,4,4,25"
      ],
      "execution_count": 360,
      "outputs": [
        {
          "output_type": "stream",
          "name": "stdout",
          "text": [
            "bank account or service,2015,1,1\r\n",
            "bank account or service,2016,1,1\r\n",
            "bank account or service,2016,1,1\r\n",
            "checking or savings account,2017,1,1\r\n",
            "checking or savings account,2018,1,1\r\n",
            "checking or savings account,2018,1,1\r\n",
            "checking or savings account,2018,1,1\r\n",
            "checking or savings account,2018,1,1\r\n",
            "checking or savings account,2018,1,1\r\n",
            "checking or savings account,2018,1,1\r\n"
          ]
        }
      ]
    },
    {
      "cell_type": "code",
      "source": [
        ""
      ],
      "metadata": {
        "id": "vB5pDgJhz34-"
      },
      "execution_count": null,
      "outputs": []
    }
  ]
}